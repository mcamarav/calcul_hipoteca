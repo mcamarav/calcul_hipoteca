{
 "cells": [
  {
   "cell_type": "code",
   "execution_count": 1,
   "metadata": {
    "collapsed": true
   },
   "outputs": [],
   "source": [
    "import math"
   ]
  },
  {
   "cell_type": "code",
   "execution_count": null,
   "metadata": {
    "collapsed": true
   },
   "outputs": [],
   "source": []
  },
  {
   "cell_type": "code",
   "execution_count": 2,
   "metadata": {
    "collapsed": true
   },
   "outputs": [],
   "source": [
    "def get_quota(capital, interes_mensual, nombre_mensualitats):\n",
    "    \"\"\"\n",
    "    \"\"\"\n",
    "    try:\n",
    "        return capital * interes_mensual / (1-(1 + interes_mensual)**(-nombre_mensualitats))\n",
    "    except Exception as e:\n",
    "        print 'capital:', capital\n",
    "        print 'interes_mensual', interes_mensual\n",
    "        print 'mensualitats', nombre_mensualitats\n",
    "        assert False\n",
    "\n",
    "def desglossar_quota(capital, interes_mensual, cuota):\n",
    "    interessos = capital * interes_mensual\n",
    "    amortitzat = cuota - interessos\n",
    "    return amortitzat, interessos\n",
    "\n",
    "def get_mensualitats(capital, interes_mensual, cuota_objectiu):\n",
    "    return - int(math.log(1-capital*interes_mensual/cuota_objectiu) / math.log(1+interes_mensual) - 0.00001) + 1\n",
    "\n",
    "\n",
    "def get_euribor(euribor_inicial, canvis_euribor, mes):\n",
    "\n",
    "    for m in range(mes, -1, -1):\n",
    "        if m in canvis_euribor:\n",
    "\n",
    "            return canvis_euribor[m]\n",
    "    return euribor_inicial\n",
    "            \n",
    "def get_amortitzacio(amortitzacions, mes):\n",
    "    if mes in amortitzacions:\n",
    "        return amortitzacions[mes]\n",
    "    return {'import': 0., 'tipus': 'quota'}\n",
    "\n",
    "def simular_hipoteca(capital_inicial, euribor_inicial, diferencial, mensualitats, amortitzacions=[], canvis_euribor=[]):\n",
    "    \"\"\"\n",
    "    amortitzacions es un diccionari. Les claus son els mesos on hi ha amortització\n",
    "                                     i te com a valor un diccionari amb entrades \"import\" i \"tipus\".\n",
    "    canvis euribor es un diccionari amb clau el mes i valor el canvi.\n",
    "    \"\"\"\n",
    "    deute = capital_inicial \n",
    "    resultat = []\n",
    "    mes = 1\n",
    "    euribor = euribor_inicial\n",
    "    interes_mensual = (euribor_inicial + diferencial) / 12\n",
    "    cuota_previa = None\n",
    "    limit = 580\n",
    "    mensualitats_pendents = mensualitats\n",
    "    while deute > 0 and mensualitats_pendents > 0:\n",
    "        \n",
    "        \n",
    "        if mes > limit:\n",
    "            break\n",
    "        line = {}\n",
    "        # Generem una linea: mes\n",
    "        line['mes'] = mes\n",
    "        # recalcular interes si hi ha canvi d'euribor\n",
    "        euribor = get_euribor(euribor_inicial, canvis_euribor, mes)\n",
    "        line['euribor'] = euribor\n",
    "        line['diferencial'] = diferencial\n",
    "        line['interes_mensual'] = (euribor + diferencial) / 12\n",
    "        cuota = get_quota(deute, line['interes_mensual'], mensualitats_pendents)\n",
    "        \n",
    "        cuota_interessos = deute * line['interes_mensual']\n",
    "        cuota_amortitzacio = cuota - cuota_interessos\n",
    "        line['deute'] = deute\n",
    "        line['cuota'] = cuota\n",
    "        line['cuota_interessos'] = cuota_interessos\n",
    "        line['cuota_amortitzacio'] = cuota_amortitzacio\n",
    "        \n",
    "        deute = deute - line['cuota_amortitzacio']\n",
    "        line['mensualitats_pendents'] = mensualitats_pendents - 1\n",
    "         \n",
    "        \n",
    "        # restar amortitzacio si n'hi ha.\n",
    "        amortitzacio = get_amortitzacio(amortitzacions, mes)\n",
    "        # si amortitzacio\n",
    "        if amortitzacio['import'] > 0:\n",
    "            deute = deute - amortitzacio['import']\n",
    "        \n",
    "        if amortitzacio['tipus'] == 'temps':\n",
    "            mensualitats_pendents = get_mensualitats(deute, line['interes_mensual'], cuota)\n",
    "        \n",
    "        \n",
    "        line['import_amortitzat'] = amortitzacio['import']\n",
    "            \n",
    "        mes += 1\n",
    "        mensualitats_pendents += -1\n",
    "        resultat.append(line)\n",
    "        \n",
    "    return resultat\n",
    "    \n",
    "    "
   ]
  },
  {
   "cell_type": "code",
   "execution_count": 13,
   "metadata": {
    "collapsed": true
   },
   "outputs": [],
   "source": [
    "CAPITAL_INICIAL = 100000.0\n",
    "EURIBOR_INICIAL = -0.012/100\n",
    "DIFERENCIAL = 0.8 / 100\n",
    "MENSUALITATS = 480\n",
    "\n",
    "canvis_euribor = {\n",
    "    12: -0.127 / 100,\n",
    "    #24: 0.01,\n",
    "    #36: 0.02,\n",
    "    #48: 0.05,\n",
    "    #60: 0.04,\n",
    "    #84: 0.03\n",
    "}\n",
    "amortitzacions = {\n",
    "    12:{'import':13500, 'tipus': 'cuota'},\n",
    "    24: {'import':3000, 'tipus': 'temps'},\n",
    "    #36: {'import':3000, 'tipus': 'cuota'},\n",
    "    #48: {'import':3000, 'tipus': 'cuota'},\n",
    "    #60: {'import':0, 'tipus': 'cuota'},\n",
    "    #72: {'import':0, 'tipus': 'cuota'},\n",
    "    \n",
    "}\n",
    "resultat = simular_hipoteca(CAPITAL_INICIAL, EURIBOR_INICIAL, DIFERENCIAL, MENSUALITATS, amortitzacions=amortitzacions, canvis_euribor=canvis_euribor)"
   ]
  },
  {
   "cell_type": "code",
   "execution_count": null,
   "metadata": {
    "collapsed": true
   },
   "outputs": [],
   "source": []
  },
  {
   "cell_type": "code",
   "execution_count": 14,
   "metadata": {},
   "outputs": [
    {
     "name": "stdout",
     "output_type": "stream",
     "text": [
      "Total pagat: 94989.826679\n",
      "Interessos totals: 11489.826679\n"
     ]
    }
   ],
   "source": [
    "len(resultat)\n",
    "total_interessos = sum([l['cuota_interessos'] for l in resultat])\n",
    "total_pagat = sum([l['cuota'] for l in resultat])\n",
    "print 'Total pagat:', total_pagat\n",
    "print 'Interessos totals:', total_interessos"
   ]
  },
  {
   "cell_type": "code",
   "execution_count": 15,
   "metadata": {
    "collapsed": true
   },
   "outputs": [],
   "source": [
    "import matplotlib.pyplot as plt\n",
    "%matplotlib inline\n"
   ]
  },
  {
   "cell_type": "code",
   "execution_count": 16,
   "metadata": {},
   "outputs": [
    {
     "data": {
      "text/plain": [
       "<Container object of 461 artists>"
      ]
     },
     "execution_count": 16,
     "metadata": {},
     "output_type": "execute_result"
    },
    {
     "data": {
      "image/png": "[encoded data removed]",
      "text/plain": [
       "<matplotlib.figure.Figure at 0x10e7f3d10>"
      ]
     },
     "metadata": {},
     "output_type": "display_data"
    }
   ],
   "source": [
    "interessos = [l['cuota_interessos'] for l in resultat]\n",
    "amortitzacions = [l['cuota_amortitzacio'] for l in resultat]\n",
    "mesos = [l['mes'] for l in resultat]\n",
    "fig = plt.figure(figsize=(16,5))\n",
    "plt.bar(mesos, interessos, color='r', edgecolor = \"none\")\n",
    "plt.bar(mesos, amortitzacions, bottom=interessos, color='y',edgecolor = \"none\")\n"
   ]
  },
  {
   "cell_type": "code",
   "execution_count": null,
   "metadata": {},
   "outputs": [],
   "source": []
  },
  {
   "cell_type": "code",
   "execution_count": 8,
   "metadata": {},
   "outputs": [
    {
     "data": {
      "text/plain": [
       "{'cuota': 242.9564937834504,\n",
       " 'cuota_amortitzacio': 177.28982711678375,\n",
       " 'cuota_interessos': 65.66666666666666,\n",
       " 'deute': 100000.0,\n",
       " 'diferencial': 0.008,\n",
       " 'euribor': -0.00012,\n",
       " 'import_amortitzat': 0.0,\n",
       " 'interes_mensual': 0.0006566666666666666,\n",
       " 'mensualitats_pendents': 479,\n",
       " 'mes': 1}"
      ]
     },
     "execution_count": 8,
     "metadata": {},
     "output_type": "execute_result"
    }
   ],
   "source": [
    "resultat[0]"
   ]
  },
  {
   "cell_type": "code",
   "execution_count": null,
   "metadata": {
    "collapsed": true
   },
   "outputs": [],
   "source": [
    "\n"
   ]
  },
  {
   "cell_type": "code",
   "execution_count": null,
   "metadata": {
    "collapsed": true
   },
   "outputs": [],
   "source": []
  }
 ],
 "metadata": {
  "kernelspec": {
   "display_name": "Python 2",
   "language": "python",
   "name": "python2"
  },
  "language_info": {
   "codemirror_mode": {
    "name": "ipython",
    "version": 2
   },
   "file_extension": ".py",
   "mimetype": "text/x-python",
   "name": "python",
   "nbconvert_exporter": "python",
   "pygments_lexer": "ipython2",
   "version": "2.7.10"
  }
 },
 "nbformat": 4,
 "nbformat_minor": 1
}
